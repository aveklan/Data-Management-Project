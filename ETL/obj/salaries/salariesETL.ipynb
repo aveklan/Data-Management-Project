{
  "nbformat": 4,
  "nbformat_minor": 0,
  "metadata": {
    "colab": {
      "provenance": []
    },
    "kernelspec": {
      "name": "python3",
      "display_name": "Python 3"
    },
    "language_info": {
      "name": "python"
    }
  },
  "cells": [
    {
      "cell_type": "code",
      "source": [
        "import pandas as pd\n",
        "import numpy as np\n",
        "import re"
      ],
      "metadata": {
        "id": "fYbkHd8TnXFX"
      },
      "execution_count": null,
      "outputs": []
    },
    {
      "cell_type": "markdown",
      "source": [
        "# **1st Dataset**"
      ],
      "metadata": {
        "id": "nbGP_8mFnO9c"
      }
    },
    {
      "cell_type": "code",
      "source": [
        "df = pd.read_csv('/content/data_scientists_salaries_from_reddit.csv')\n",
        "\n",
        "job_titles = df.iloc[:, 1]\n",
        "\n",
        "print(job_titles)\n",
        "\n",
        "#for j in job_titles:\n",
        "  #print(j)\n"
      ],
      "metadata": {
        "colab": {
          "base_uri": "https://localhost:8080/"
        },
        "id": "88ZB8ZlxxSp5",
        "outputId": "5a387426-55ab-4baa-c3f0-edbc4e3be36c"
      },
      "execution_count": null,
      "outputs": [
        {
          "output_type": "stream",
          "name": "stdout",
          "text": [
            "0                    Data Scientist\n",
            "1                   Program Analyst\n",
            "2                    Data Scientist\n",
            "3      Senior Software Engineer (ML\n",
            "4           Data Science Consultant\n",
            "                   ...             \n",
            "550           senior data scientist\n",
            "551             Lead Data Scientist\n",
            "552               Epic BI Developer\n",
            "553               Sr Data Scientist\n",
            "554                Data Scientist I\n",
            "Name: title, Length: 555, dtype: object\n"
          ]
        }
      ]
    },
    {
      "cell_type": "code",
      "source": [
        "new_table = pd.DataFrame()\n",
        "new_job_titles = []\n",
        "\n",
        "for jt in job_titles:\n",
        "  if pd.isna(jt):\n",
        "    jt = np.nan\n",
        "  else:\n",
        "    if 'ds' in jt.lower():\n",
        "        jt = 'Data Scientist'\n",
        "    elif 'data' in jt.lower():\n",
        "        if 'scientist' in jt.lower():\n",
        "            jt = 'Data Scientist'\n",
        "        elif 'analy' in jt.lower():\n",
        "            jt = 'Data Analyst'\n",
        "    elif 'machine learning' in jt.lower() or 'ml' in jt.lower():\n",
        "        jt = 'ML Engineer'\n",
        "    elif 'analytics' in jt.lower():\n",
        "        jt = 'Analytics Manager'\n",
        "    elif 'analyst' in jt.lower():\n",
        "        if 'business' in jt.lower() or 'bi' in jt.lower() or 'intelligence' in jt.lower():\n",
        "          jt = 'BI Analyst'\n",
        "        else:\n",
        "          jt = 'Product Analyst'\n",
        "    elif 'directo' in jt.lower():\n",
        "        jt = 'Director'\n",
        "    elif '/' in jt.lower() and 'sr' in jt.lower():\n",
        "        temp = jt.split('/')[0]\n",
        "        jt = temp.split('Sr. ')[1]\n",
        "    elif '/' in jt.lower():\n",
        "        jt = jt.split('/')[0]\n",
        "    elif ',' in jt.lower():\n",
        "        jt = jt.split(',')[0]\n",
        "    elif '(' in jt.lower():\n",
        "        jt = jt.split('(')[0]\n",
        "    elif 'sr' in jt.lower():\n",
        "        jt = jt.split('Sr. ')[1]\n",
        "    elif 'senior' in jt.lower():\n",
        "        jt = jt.split('Senior ')[1]\n",
        "    elif '.' in jt.lower():\n",
        "        jt = jt.split('.')[0]\n",
        "\n",
        "  new_job_titles.append(jt)\n",
        "\n",
        "new_table['Job title'] = new_job_titles\n",
        "print(len(new_table))"
      ],
      "metadata": {
        "collapsed": true,
        "id": "7VKbJozXmQ8j",
        "colab": {
          "base_uri": "https://localhost:8080/"
        },
        "outputId": "2ceb26bb-54a6-47a8-d766-2a80c074f226"
      },
      "execution_count": null,
      "outputs": [
        {
          "output_type": "stream",
          "name": "stdout",
          "text": [
            "555\n"
          ]
        }
      ]
    },
    {
      "cell_type": "code",
      "source": [
        "for j in new_table['Job title']:\n",
        "  if j not in ['Data scientist', 'ML engineer', 'Null', 'Analytics manager', 'Business analyst', 'Product analyst', 'Director']:\n",
        "    print(j)"
      ],
      "metadata": {
        "id": "n6Ap9wy21NcF"
      },
      "execution_count": null,
      "outputs": []
    },
    {
      "cell_type": "code",
      "source": [
        "print(new_table['Job title'].value_counts())"
      ],
      "metadata": {
        "id": "LC_CAlP6skGn",
        "collapsed": true,
        "colab": {
          "base_uri": "https://localhost:8080/"
        },
        "outputId": "24b918a3-d022-4cf1-e8e5-88234a444df6"
      },
      "execution_count": null,
      "outputs": [
        {
          "output_type": "stream",
          "name": "stdout",
          "text": [
            "Job title\n",
            "Data Scientist           299\n",
            "Data Analyst              65\n",
            "ML Engineer               26\n",
            "Product Analyst           21\n",
            "Analytics Manager         14\n",
            "                        ... \n",
            "Algorithm Developer        1\n",
            "Marketing Coordinator      1\n",
            "Researcher                 1\n",
            "Research Investigator      1\n",
            "Epic BI Developer          1\n",
            "Name: count, Length: 81, dtype: int64\n"
          ]
        }
      ]
    },
    {
      "cell_type": "code",
      "source": [
        "salaries = df.iloc[:, 3]\n",
        "\n",
        "\n",
        "print(salaries)"
      ],
      "metadata": {
        "colab": {
          "base_uri": "https://localhost:8080/"
        },
        "id": "U3C0RRzk26H0",
        "outputId": "5a4467e8-8343-4b21-ad2a-e1f4d4d4db22"
      },
      "execution_count": null,
      "outputs": [
        {
          "output_type": "stream",
          "name": "stdout",
          "text": [
            "0       140,000\n",
            "1         86000\n",
            "2        85,000\n",
            "3          240k\n",
            "4        65,000\n",
            "         ...   \n",
            "550    AUD$130k\n",
            "551        115K\n",
            "552         NaN\n",
            "553        150k\n",
            "554        120k\n",
            "Name: salary, Length: 555, dtype: object\n"
          ]
        }
      ]
    },
    {
      "cell_type": "code",
      "source": [
        "new_salaries = []\n",
        "\n",
        "for salary in salaries:\n",
        "  if pd.isna(salary):\n",
        "    salary = np.nan\n",
        "    new_salaries.append(salary)\n",
        "  else:\n",
        "    salary = salary.replace(',', '')\n",
        "    salary = salary.replace('.', '')\n",
        "    salary = salary.replace('$', '')\n",
        "    if '*' in salary:\n",
        "      salary = salary.split('*')[0].strip()\n",
        "    if '(' in salary:\n",
        "      salary = salary.split('(')[0]\n",
        "    if '/' in salary:\n",
        "      salary = salary.split('/')[0]\n",
        "    if '+' in salary:\n",
        "      parts = salary.split('+')\n",
        "      sal = 0\n",
        "      for part in parts:\n",
        "        if part.isdigit():\n",
        "          sal += int(part)\n",
        "      if sal == 0:\n",
        "        salary = parts[0].strip()\n",
        "      else:\n",
        "        salary = str(sal)\n",
        "    if salary.endswith('k'):\n",
        "      salary = salary.replace('k', '000', 1)\n",
        "    elif salary.endswith('K'):\n",
        "      salary = salary = salary.replace('K', '000', 1)\n",
        "    elif not salary.endswith('0'):\n",
        "      for i in range(len(salary)):\n",
        "        if salary[i].isdigit() and salary[i+1] == 'k' or salary[i].isdigit() and salary[i+1] == 'K':\n",
        "          salary = salary.replace(salary[i+1], '000', 1)\n",
        "    if 'base' in salary.lower():\n",
        "      temp = salary.lower().split('base')\n",
        "      if temp[0].strip().isdigit():\n",
        "        salary = temp[0].strip()\n",
        "      elif temp[1].strip().isdigit():\n",
        "        salary = temp[1].strip()\n",
        "    if '¬' in salary:\n",
        "      salary = salary.split('¬')[0].strip() + ' EUR'\n",
        "    if salary == '0':\n",
        "        salary = np.nan\n",
        "        new_salaries.append(salary)\n",
        "        continue\n",
        "    if '800-900' in salary:\n",
        "      salary =  '10800'\n",
        "    if '-' in salary:\n",
        "      if 'cad' in salary:\n",
        "        salary = '85000 cad'\n",
        "      elif '150000' in salary:\n",
        "        salary = '150000'\n",
        "      else:\n",
        "        salary = np.nan\n",
        "        new_salaries.append(salary)\n",
        "        continue\n",
        "    if 'per ' in salary:\n",
        "      if 'month' in salary:\n",
        "        salary = str(int(salary.split('per')[0].strip()) * 12)\n",
        "      else:\n",
        "        salary = salary.split('per')[0].strip()\n",
        "    if '  ' in salary:\n",
        "      salary = salary.split('  ')[0].strip()\n",
        "    if 'lt;' in salary:\n",
        "      salary = np.nan\n",
        "      new_salaries.append(salary)\n",
        "      continue\n",
        "    if ' pa ' in salary:\n",
        "      salary = np.nan\n",
        "      new_salaries.append(salary)\n",
        "      continue\n",
        "    if 'started' in salary.lower() or 'renegotiate' in salary.lower() or 'also teach' in salary.lower():\n",
        "        salary = salary[:6].strip()\n",
        "    if '14% bonus' in salary.lower():\n",
        "      salary = '114000'\n",
        "    if 'usd' in salary.lower():\n",
        "      temp = salary.lower().split('usd')\n",
        "      if temp[0].strip().isdigit():\n",
        "        salary = temp[0].strip() + ' USD'\n",
        "      elif temp[1].strip().isdigit():\n",
        "        salary = temp[1].strip() + ' USD'\n",
        "    elif 'dollars' in salary.lower():\n",
        "      salary = salary.lower().split('dollars')[0].strip() + ' USD'\n",
        "    elif 'eur' in salary.lower():\n",
        "      temp = salary.lower().split('eur')\n",
        "      if temp[0].strip().isdigit():\n",
        "        salary = temp[0].strip() + ' EUR'\n",
        "      elif temp[1].strip().isdigit():\n",
        "        salary = temp[1].strip() + ' EUR'\n",
        "    elif 'cad' in salary.lower():\n",
        "      salary = salary.lower().split('cad')[0].strip().replace(' ','') + ' CAD'\n",
        "    elif 'dkk' in salary.lower():\n",
        "      salary = salary.lower().split('dkk')[0].strip() + ' DKK'\n",
        "    elif 'aud' in salary.lower():\n",
        "      temp = salary.lower().split('aud')\n",
        "      if temp[0].strip().isdigit():\n",
        "        salary = temp[0].strip() + ' AUD'\n",
        "      elif temp[1].strip().isdigit():\n",
        "        salary = temp[1].strip() + ' AUD'\n",
        "    elif 'lpa' in salary.lower() or 'lak' in salary.lower():\n",
        "      if 'lpa' in salary.lower():\n",
        "        temp = salary.lower().split('lpa')[0].strip()\n",
        "        salary = ''.join(c for c in temp if c.isdigit())\n",
        "      elif 'lak' in salary.lower():\n",
        "        temp = salary.lower().split('lak')[0].strip()\n",
        "        salary = ''.join(c for c in temp if c.isdigit())\n",
        "      salary = str(int(salary) * 100000) + ' INR'\n",
        "    elif 'chf' in salary.lower():\n",
        "      salary = salary.lower().split('chf')[1].strip() + ' CHF'\n",
        "    elif 'TC' in salary:\n",
        "      salary = salary.split('TC')[1].strip()\n",
        "\n",
        "    if salary.endswith('0') and not salary.isdigit():\n",
        "      i = len(salary) - 1\n",
        "      res = ''\n",
        "      while salary[i].isdigit():\n",
        "        res += salary[i]\n",
        "        i -= 1\n",
        "      salary = res[::-1]\n",
        "\n",
        "    salary = salary.strip()\n",
        "    if salary.isdigit():\n",
        "      salary += ' USD'\n",
        "\n",
        "    new_salaries.append(salary)\n",
        "\n",
        "print(len(new_salaries))"
      ],
      "metadata": {
        "id": "0dll8Tfh3jvv",
        "colab": {
          "base_uri": "https://localhost:8080/"
        },
        "outputId": "655c67f9-45f3-489e-b9f3-e7b83148e6b1"
      },
      "execution_count": null,
      "outputs": [
        {
          "output_type": "stream",
          "name": "stdout",
          "text": [
            "555\n"
          ]
        }
      ]
    },
    {
      "cell_type": "code",
      "source": [
        "new_salaries_amount = []\n",
        "new_salaries_currency = []\n",
        "\n",
        "for salary in new_salaries:\n",
        "  if pd.isna(salary):\n",
        "    new_salaries_amount.append(np.nan)\n",
        "    new_salaries_currency.append(np.nan)\n",
        "  else:\n",
        "    new_salaries_amount.append(int(salary.split(' ')[0].strip()))\n",
        "    new_salaries_currency.append(salary.split(' ')[1].strip())\n",
        "\n",
        "new_table['Salary amount'] = new_salaries_amount\n",
        "new_table['Salary currency'] = new_salaries_currency"
      ],
      "metadata": {
        "id": "wDofIuqf7Qfd"
      },
      "execution_count": null,
      "outputs": []
    },
    {
      "cell_type": "code",
      "source": [
        "conv_ratios = []\n",
        "for currency in new_salaries_currency:\n",
        "  if pd.isna(currency):\n",
        "    cr = np.nan\n",
        "  else:\n",
        "    if currency == 'USD':\n",
        "      cr = 1\n",
        "    elif currency == 'EUR':\n",
        "      cr = 1.0882787\n",
        "    elif currency == 'GBP':\n",
        "      cr = 1.2951632\n",
        "    elif currency == 'CAD':\n",
        "      cr = 0.73006557\n",
        "    elif currency == 'INR':\n",
        "      cr = 0.011962834\n",
        "    elif currency == 'AUD':\n",
        "      cr = 0.67236147\n",
        "    elif currency == 'CHF':\n",
        "      cr = 1.1143726\n",
        "    elif currency == 'DKK':\n",
        "      cr = 0.14585547\n",
        "    elif currency == 'SGD':\n",
        "      cr = 0.74328847\n",
        "    elif currency == 'BRL':\n",
        "      cr = 0.18421977\n",
        "\n",
        "  conv_ratios.append(cr)\n",
        "\n",
        "new_table['Conversion ratio'] = conv_ratios"
      ],
      "metadata": {
        "id": "8eoYPWeLGqmL"
      },
      "execution_count": null,
      "outputs": []
    },
    {
      "cell_type": "code",
      "source": [
        "locations = df.iloc[:, 2]\n",
        "\n",
        "print(locations.value_counts())"
      ],
      "metadata": {
        "colab": {
          "base_uri": "https://localhost:8080/"
        },
        "id": "Jr3UGmBkQC0j",
        "outputId": "22e1ba33-2818-4e27-e646-219ddbbff925"
      },
      "execution_count": null,
      "outputs": [
        {
          "output_type": "stream",
          "name": "stdout",
          "text": [
            "location\n",
            "New York, NY, USA                            43\n",
            "United States                                26\n",
            "San Francisco, CA, USA                       26\n",
            "Chicago, IL, USA                             21\n",
            "San Francisco Bay Area, CA, USA              17\n",
            "                                             ..\n",
            "4200 Fifth Ave, Pittsburgh, PA 15260, USA     1\n",
            "South America                                 1\n",
            "Greater Toronto Area, ON, Canada              1\n",
            "San Diego, CA, USA                            1\n",
            "Boise, ID, USA                                1\n",
            "Name: count, Length: 130, dtype: int64\n"
          ]
        }
      ]
    },
    {
      "cell_type": "code",
      "source": [
        "new_locations = []\n",
        "city = ''\n",
        "state = ''\n",
        "country = ''\n",
        "countries = []\n",
        "\n",
        "i = 0\n",
        "for location in locations:\n",
        "  if pd.isna(location):\n",
        "    city = np.nan\n",
        "    state = np.nan\n",
        "    country = np.nan\n",
        "  else:\n",
        "    temp = location.split(',')\n",
        "    if len(temp) == 1:\n",
        "      city = np.nan\n",
        "      state = np.nan\n",
        "      country = temp[0].strip()\n",
        "    elif len(temp) == 2:\n",
        "      if 'coast' in temp[0].lower() or 'west' in temp[0].lower() or 'east' in temp[0].lower():\n",
        "        city = temp[0].strip()\n",
        "        state = np.nan\n",
        "        country = temp[1].strip()\n",
        "      elif 'USA' in temp[1].strip():\n",
        "        city = np.nan\n",
        "        state = temp[0].strip()\n",
        "        country = temp[1].strip()\n",
        "    elif len(temp) == 3:\n",
        "      city = temp[0].strip()\n",
        "      state = temp[1].strip()\n",
        "      country = temp[2].strip()\n",
        "    elif len(temp) > 3:\n",
        "      city = temp[-3:][0].strip()\n",
        "      state = temp[-2:][0].strip()\n",
        "      country = temp[-1:][0].strip()\n",
        "\n",
        "  new_locations.append([city, state, country])\n",
        "  countries.append(country)\n",
        "\n",
        "for country in countries:\n",
        "    if country == 'USA' or country == 'United States':\n",
        "        countries[countries.index(country)] = 'US'\n",
        "    elif country == 'Canada':\n",
        "        countries[countries.index(country)] = 'CA'\n",
        "    elif country == 'United Kingdom' or country == 'UK':\n",
        "        countries[countries.index(country)] = 'UK'\n",
        "    elif country == 'India':\n",
        "        countries[countries.index(country)] = 'IN'\n",
        "    elif country == 'Germany':\n",
        "        countries[countries.index(country)] = 'DE'\n",
        "    elif country == 'Singapore':\n",
        "        countries[countries.index(country)] = 'SG'\n",
        "    elif country == 'Ireland':\n",
        "        countries[countries.index(country)] = 'IE'\n",
        "    elif country == 'Austria':\n",
        "        countries[countries.index(country)] = 'AT'\n",
        "    elif country == 'Switzerland':\n",
        "        countries[countries.index(country)] = 'CH'\n",
        "    elif country == 'Spain':\n",
        "        countries[countries.index(country)] = 'ES'\n",
        "    elif country == 'Brazil':\n",
        "        countries[countries.index(country)] = 'BR'\n",
        "    elif country == 'Netherlands':\n",
        "        countries[countries.index(country)] = 'NL'\n",
        "    elif country == 'Belarus':\n",
        "        countries[countries.index(country)] = 'BY'\n",
        "    elif country == 'Lebanon':\n",
        "        countries[countries.index(country)] = 'LB'\n",
        "    elif country == 'Argentina':\n",
        "        countries[countries.index(country)] = 'AR'\n",
        "    elif country == 'Poland':\n",
        "        countries[countries.index(country)] = 'PL'\n",
        "    elif country == 'Israel':\n",
        "        countries[countries.index(country)] = 'IL'\n",
        "    elif country == 'Philippines':\n",
        "        countries[countries.index(country)] = 'PH'\n",
        "    elif country == 'Czechia':\n",
        "        countries[countries.index(country)] = 'CZ'\n",
        "    elif country == 'Hungary':\n",
        "        countries[countries.index(country)] = 'HU'\n",
        "\n",
        "new_table['Country'] = countries\n",
        "\n",
        "print(len(new_locations))"
      ],
      "metadata": {
        "id": "8oWrA-6NSGVp",
        "colab": {
          "base_uri": "https://localhost:8080/"
        },
        "outputId": "e42d4241-c9da-4770-99f6-c62fbe06a282"
      },
      "execution_count": null,
      "outputs": [
        {
          "output_type": "stream",
          "name": "stdout",
          "text": [
            "555\n"
          ]
        }
      ]
    },
    {
      "cell_type": "code",
      "source": [
        "cities = []\n",
        "states = []\n",
        "\n",
        "for location in new_locations:\n",
        "  cities.append(location[0])\n",
        "  states.append(location[1])\n",
        "\n",
        "new_table['City'] = cities\n",
        "new_table['State'] = states"
      ],
      "metadata": {
        "id": "t3MJp1GvpC3M"
      },
      "execution_count": null,
      "outputs": []
    },
    {
      "cell_type": "code",
      "source": [
        "for location in new_locations:\n",
        "  print(str(location[0]))\n",
        "print(len(new_locations))"
      ],
      "metadata": {
        "id": "mGID9yAjTX_X"
      },
      "execution_count": null,
      "outputs": []
    },
    {
      "cell_type": "code",
      "source": [
        "years = df.iloc[:, 13]\n",
        "\n",
        "new_table['Reference year'] = years\n",
        "\n",
        "new_table['Remote ratio'] = np.nan"
      ],
      "metadata": {
        "id": "LFGii1y4CLBR"
      },
      "execution_count": null,
      "outputs": []
    },
    {
      "cell_type": "code",
      "source": [
        "company_industry = df.iloc[:, 4]\n",
        "print(company_industry.value_counts())\n",
        "\n",
        "new_company_industry = []\n",
        "\n",
        "for jt in company_industry:\n",
        "    if pd.isna(jt):\n",
        "      jt='Null'\n",
        "    else:\n",
        "      if 'consulting' in jt.lower() or 'big 4' in jt.lower() or 'consultancy' in jt.lower() or 'agency' in jt.lower():\n",
        "          jt ='Consulting'\n",
        "      elif 'health' in jt.lower() or 'pharma' in jt.lower() or 'medical' in jt.lower() or 'danhar' in jt.lower() or 'clinical' in jt.lower():\n",
        "          jt ='Healthcare'\n",
        "      elif 'warehous' in jt.lower() or 'logistics' in jt.lower() or 'supply' in jt.lower():\n",
        "          jt ='Warehousing and Logistic'\n",
        "      elif 'travel' in jt.lower() or 'entert' in jt.lower():\n",
        "          jt ='Travelling and Enterteinment'\n",
        "      elif 'security' in jt.lower() or 'defense' in jt.lower():\n",
        "          jt ='Ciber Security'\n",
        "      elif 'education' in jt.lower() or 'research' in jt.lower() or 'academia' in jt.lower() or 'university' in jt.lower() or 'higher ed' in jt.lower() or 'sensory science' in jt.lower():\n",
        "          jt ='Education, Research ad University'\n",
        "      elif 'faang' in jt.lower() or 'public company' in jt.lower() or 'large corporate' in jt.lower() or 'large cable' in jt.lower() or 'maang' in jt.lower() or 'fortune' in jt.lower() or 'large international' in jt.lower() or 'fanng' in jt.lower() or 'fb' in jt.lower() or 'google' in jt.lower() or 'youtube' in jt.lower() or 'amazon' in jt.lower() or 'aaa game' in jt.lower() or 'big n' in jt.lower():\n",
        "          jt ='Big Tech'\n",
        "      elif 'small' in jt.lower():\n",
        "          if 'tech' in jt.lower():\n",
        "            jt ='Small Tech'\n",
        "      elif 'tech' in jt.lower() or 'saas' in jt.lower() or 'sas' in jt.lower() or 'game' in jt.lower() or 'gaming' in jt.lower() or 'software' in jt.lower() or 'digital' in jt.lower():\n",
        "          jt ='Tech Company'\n",
        "      elif 'finance' in jt.lower() or 'real estate' in jt.lower() or 'm / g' in jt.lower() or 'tmd' in jt.lower() or 'forecast' in jt.lower() or 'pe/vc' in jt.lower() or'statistics' in jt.lower() or 'portofolio' in jt.lower() or 'capital' in jt.lower()  or 'credit' in jt.lower() or 'portfolio' in jt.lower() or 'trading' in jt.lower() or 'crypto' in jt.lower() or 'financial' in jt.lower() or 'bank' in jt.lower() or 'financing' in jt.lower() or 'insurance' in jt.lower():\n",
        "          jt ='Finance'\n",
        "      elif 'fintech' in jt.lower():\n",
        "          jt ='FinTech'\n",
        "      elif 'startup' in jt.lower() or 'self driving' in jt.lower() or 'self-driving' in jt.lower():\n",
        "          jt ='StartUp'\n",
        "      elif 'ecommerce' in jt.lower() or 'e-commerce' in jt.lower():\n",
        "          jt ='Ecommerce'\n",
        "      elif 'govern' in jt.lower() or 'federal' in jt.lower():\n",
        "          jt ='Public Sector and Gonverment'\n",
        "      elif 'manufactor' in jt.lower() or 'electronics' in jt.lower() or 'automaker'  in jt.lower() or 'steel' in jt.lower() or 'hardware' in jt.lower() or 'manufactur' in jt.lower() or 'components' in jt.lower() or 'semiconductors' in jt.lower() or 'caterpillar' in jt.lower():\n",
        "          jt ='Manufactoring'\n",
        "      elif 'energy' in jt.lower() or 'oil' in jt.lower() or 'gas' in jt.lower() or 'utilit' in jt.lower():\n",
        "          jt ='Energy, oil and gas'\n",
        "      elif 'marketing' in jt.lower() or 'advertising' in jt.lower() or 'media' in jt.lower():\n",
        "          jt ='Marketing, Media and Advertising'\n",
        "      elif 'retail' in jt.lower() or 'fmcg' in jt.lower() or 'consumer' in jt.lower() or 'goods' in jt.lower() or 'cpg' in jt.lower() or 'food' in jt.lower() or 'brewery' in jt.lower():\n",
        "          jt ='Retail'\n",
        "      else:\n",
        "          jt ='Others'\n",
        "    new_company_industry.append(jt)\n",
        "\n",
        "new_table['Company industry'] = new_company_industry\n",
        "new_table['Company size'] = np.nan"
      ],
      "metadata": {
        "colab": {
          "base_uri": "https://localhost:8080/"
        },
        "id": "GolT6EK1ls8p",
        "outputId": "d50fce75-9da7-498b-b34b-15c21865ac08"
      },
      "execution_count": null,
      "outputs": [
        {
          "output_type": "stream",
          "name": "stdout",
          "text": [
            "company_industry\n",
            "Tech                      22\n",
            "Finance                   14\n",
            "Healthcare                13\n",
            "Fintech                    8\n",
            "Consulting                 7\n",
            "                          ..\n",
            "The Home Depot/Retail      1\n",
            "Utility                    1\n",
            "Tech startup               1\n",
            "fintech                    1\n",
            "Large Non-Tech Company     1\n",
            "Name: count, Length: 329, dtype: int64\n"
          ]
        }
      ]
    },
    {
      "cell_type": "code",
      "source": [
        "education = df.iloc[:, 5]\n",
        "print(education.value_counts())\n",
        "\n",
        "new_education_table = pd.DataFrame(columns=['Education'])\n",
        "new_education = []\n",
        "\n",
        "for jt in education:\n",
        "    if pd.isna(jt):\n",
        "      jt=np.nan\n",
        "    else:\n",
        "      jt = jt.lower()\n",
        "      if 'phd' in jt or 'ph.d.' in jt or 'doctoral' in jt or 'ph.d' in jt:\n",
        "          jt='PhD'\n",
        "      elif 'mba' in jt or 'analytics' in jt:\n",
        "          jt='MBA'\n",
        "      elif 'msc' in jt or 'master' in jt or 'ms' in jt or 'm.sc.' in jt or 'm.s.' in jt or 'm.sc' in jt or 'm. sc.' in jt or 'm.' in jt or 'ma' in jt or 'msba' in jt or 'mis' in jt:\n",
        "          if 'engineering' in jt or 'software' in jt or 'physics' in jt or 'statistics' in jt or 'mathematics' in jt or 'data science' in jt  or 'comp' in jt or 'stat' in jt or 'math' in jt or 'stem' in jt or 'technical' in jt or 'bio' in jt or 'artificial' in jt or 'ds' in jt or 'big data' in jt or 'cs' in jt or 'hard science' in jt or 'me' in jt or 'mis' in jt:\n",
        "            jt='MSc in STEM'\n",
        "          elif 'economics' in jt or 'business' in jt or 'finance' in jt or 'accounting' in jt or 'econ' in jt or 'msba' in jt:\n",
        "            jt='MSc in economics'\n",
        "          elif 'psychology' in jt or 'sociology' in jt or 'm.ed' in jt or 'communication' in jt or 'political science' in jt or 'ed' in jt or 'poli sci' in jt:\n",
        "            jt='MSc in human sciences'\n",
        "          elif 'fisheries' in jt or 'french' in jt or 'spatial analysis' in jt or 'natural resources' in jt or 'global studies' in jt or 'criminal justice' in jt or 'physical sciences' in jt:\n",
        "            jt='MSc in Others'\n",
        "          else:\n",
        "            jt='MSc not specified'\n",
        "      elif 'bachelor' in jt or 'bs' in jt or 'ba' in jt or 'b.s.' in jt or 'b.s' in jt or 'post graduate' in jt:\n",
        "          if 'engineering' in jt or 'software' in jt or 'physics' in jt or 'statistics' in jt or 'mathematics' in jt or 'data science' in jt  or 'comp' in jt or 'stat' in jt or 'math' in jt or 'stem' in jt or 'technical' in jt or 'bio' in jt or 'artificial' in jt or 'ds' in jt or 'big data' in jt or 'cs' in jt or 'hard science' in jt or 'me' in jt:\n",
        "            jt='BSc in STEM'\n",
        "          elif 'economics' in jt or 'business' in jt or 'finance' in jt or 'accounting' in jt or 'econ' in jt:\n",
        "            jt='BSc in economics'\n",
        "          elif 'psychology' in jt or 'sociology' in jt or 'm.ed' in jt or 'communication' in jt or 'political science' in jt or 'ed' in jt or 'poli sci' in jt:\n",
        "            jt='BSc in human sciences'\n",
        "          elif 'fisheries' in jt or 'french' in jt or 'spatial analysis' in jt or 'natural resources' in jt or 'global studies' in jt or 'criminal justice' in jt or 'physical sciences' in jt:\n",
        "            jt='BSc in Others'\n",
        "          else:\n",
        "            jt='BSc not specified'\n",
        "      elif 'no college' in jt or 'ged' in jt or 'hs' in jt or 'high school' in jt or 'undergrad' in jt or 'no degree' in jt or 'dropout' in jt or 'self taught' in jt or 'none' in jt:\n",
        "          jt='No degree'\n",
        "      elif 'engineering' in jt or 'stem' in jt or 'stats' in jt:\n",
        "        jt='MSc in STEM'\n",
        "      elif 'quantitative psychology' in jt:\n",
        "        jt='MSc in human sciences'\n",
        "      else:\n",
        "          jt='No degree'\n",
        "    new_education.append(jt)\n",
        "\n",
        "new_table['Education'] = new_education"
      ],
      "metadata": {
        "colab": {
          "base_uri": "https://localhost:8080/"
        },
        "id": "HaAT4m8-mJEx",
        "outputId": "8bcf4a5d-deb4-4fef-dc0f-253555e12ebe"
      },
      "execution_count": null,
      "outputs": [
        {
          "output_type": "stream",
          "name": "stdout",
          "text": [
            "education\n",
            "PhD                                                28\n",
            "Masters                                            14\n",
            "MS                                                 11\n",
            "Bachelors                                           5\n",
            "MS Statistics                                       4\n",
            "                                                   ..\n",
            "BS Mathematics, minors Data Science and Physics     1\n",
            "Physics PhD + 4.5 years postdoc                     1\n",
            "PhD in Geophysics                                   1\n",
            "PhD, Engineering                                    1\n",
            "BS Accounting MS Tech                               1\n",
            "Name: count, Length: 394, dtype: int64\n"
          ]
        }
      ]
    },
    {
      "cell_type": "code",
      "source": [
        "prior_experience = df.iloc[:, 6]\n",
        "new_priorExperience_table = pd.DataFrame(columns=['Prior Experience'])\n",
        "new_priorExperience = []\n",
        "\n",
        "pattern = r'(\\d+(\\.\\d+)?)\\s*year'\n",
        "pattern1 = r'(\\d+(\\.\\d+)?)\\s*yrs'\n",
        "pattern2 = r'(\\d+(\\.\\d+)?)\\s*Year'\n",
        "pattern3 = r'(\\d+(\\.\\d+)?)\\s*YOE'\n",
        "pattern4 = r'(\\d+(\\.\\d+)?)\\s*yoe'\n",
        "\n",
        "for jt in prior_experience:\n",
        "    if pd.isna(jt):\n",
        "      jt=np.nan\n",
        "    else:\n",
        "      matches = re.findall(pattern, jt)\n",
        "      matches1 = re.findall(pattern1, jt)\n",
        "      matches2 = re.findall(pattern2, jt)\n",
        "      matches3 = re.findall(pattern3, jt)\n",
        "      matches4 = re.findall(pattern4, jt)\n",
        "\n",
        "      total_experience = sum(float(match[0]) for match in matches)\n",
        "      total_experience += sum(float(match[0]) for match in matches1)\n",
        "      total_experience += sum(float(match[0]) for match in matches2)\n",
        "      total_experience += sum(float(match[0]) for match in matches3)\n",
        "      total_experience += sum(float(match[0]) for match in matches4)\n",
        "\n",
        "      if(total_experience==0):\n",
        "        if 'internship' in jt.lower():\n",
        "          jt = 'IS'\n",
        "        elif '1y' in jt.lower():\n",
        "          jt = 'EN'\n",
        "        else:\n",
        "          jt = np.nan\n",
        "      else:\n",
        "        if (total_experience < 3):\n",
        "          jt = 'EN'\n",
        "        elif (total_experience >= 3 and total_experience < 5):\n",
        "          jt = 'MI'\n",
        "        elif (total_experience >= 5):\n",
        "          jt = 'SE'\n",
        "\n",
        "    new_priorExperience.append(jt)\n",
        "\n",
        "new_table['Experience level'] = new_priorExperience\n",
        "new_table['Employment type'] = np.nan"
      ],
      "metadata": {
        "id": "IhtyuCTNmcdA"
      },
      "execution_count": null,
      "outputs": []
    },
    {
      "cell_type": "code",
      "source": [
        "nulls = 0\n",
        "for country in countries:\n",
        "  if pd.isna(country):\n",
        "    nulls += 1\n",
        "\n",
        "print(nulls)\n",
        "\n",
        "nulls = 0\n",
        "for expL in prior_experience:\n",
        "  if pd.isna(expL):\n",
        "    nulls += 1\n",
        "\n",
        "print(nulls)"
      ],
      "metadata": {
        "colab": {
          "base_uri": "https://localhost:8080/"
        },
        "id": "kz_2GxKcymZ7",
        "outputId": "43b25840-c402-43fb-f56e-5bd1cff231d0"
      },
      "execution_count": null,
      "outputs": [
        {
          "output_type": "stream",
          "name": "stdout",
          "text": [
            "129\n",
            "218\n"
          ]
        }
      ]
    },
    {
      "cell_type": "code",
      "source": [
        "count = 0\n",
        "for index, row in new_table.iterrows():\n",
        "  if pd.isna(row['Country']) and pd.isna(row['Experience level']):\n",
        "    count += 1\n",
        "\n",
        "print(count)\n"
      ],
      "metadata": {
        "colab": {
          "base_uri": "https://localhost:8080/"
        },
        "id": "elsBXaZwy9u7",
        "outputId": "d50d8179-bb69-4455-d36c-89d3b7f32a5f"
      },
      "execution_count": null,
      "outputs": [
        {
          "output_type": "stream",
          "name": "stdout",
          "text": [
            "69\n"
          ]
        }
      ]
    },
    {
      "cell_type": "code",
      "source": [
        "count = 0\n",
        "for index, row in new_table.iterrows():\n",
        "  if pd.isna(row['Salary amount']):\n",
        "    count += 1\n",
        "\n",
        "print(count)"
      ],
      "metadata": {
        "colab": {
          "base_uri": "https://localhost:8080/"
        },
        "id": "rXNSqy4P_5i-",
        "outputId": "e53f5fe8-b7df-4686-8e8a-b80466fbee2c"
      },
      "execution_count": null,
      "outputs": [
        {
          "output_type": "stream",
          "name": "stdout",
          "text": [
            "98\n"
          ]
        }
      ]
    },
    {
      "cell_type": "code",
      "source": [
        "count = 0\n",
        "for index, row in new_table.iterrows():\n",
        "  if pd.isna(row['Salary amount']) and pd.isna(row['Salary currency']) and pd.isna(row['Conversion ratio']):\n",
        "    count += 1\n",
        "\n",
        "print(count)"
      ],
      "metadata": {
        "colab": {
          "base_uri": "https://localhost:8080/"
        },
        "id": "6COmzGSP-YbK",
        "outputId": "7c72fc09-706a-46c8-bb17-44765c515922"
      },
      "execution_count": null,
      "outputs": [
        {
          "output_type": "stream",
          "name": "stdout",
          "text": [
            "98\n"
          ]
        }
      ]
    },
    {
      "cell_type": "code",
      "source": [
        "new_table = new_table.dropna(subset=['Salary amount'])\n",
        "new_table = new_table.dropna(subset=['Country'])\n",
        "print(new_table)"
      ],
      "metadata": {
        "colab": {
          "base_uri": "https://localhost:8080/"
        },
        "id": "Gyp6nJquAs2U",
        "outputId": "d3add5eb-99f5-4241-e1c0-9a11b4c3d6c7"
      },
      "execution_count": null,
      "outputs": [
        {
          "output_type": "stream",
          "name": "stdout",
          "text": [
            "                                             Job title  Salary amount  \\\n",
            "0                                       Data Scientist       140000.0   \n",
            "5                                    Analytics Manager       120000.0   \n",
            "7                                       Data Scientist       135000.0   \n",
            "8                                       Data Scientist        74000.0   \n",
            "9                                       Data Scientist        93000.0   \n",
            "..                                                 ...            ...   \n",
            "547                                     Data Scientist       115000.0   \n",
            "548                                     Data Scientist       160000.0   \n",
            "549  Manager, Risk Strategy &amp; Policy (Data Science       110000.0   \n",
            "551                                     Data Scientist       115000.0   \n",
            "553                                     Data Scientist       150000.0   \n",
            "\n",
            "    Salary currency  Conversion ratio Country  Reference year  Remote ratio  \\\n",
            "0               USD               1.0      US            2020           NaN   \n",
            "5               USD               1.0      CA            2020           NaN   \n",
            "7               USD               1.0      US            2020           NaN   \n",
            "8               USD               1.0      US            2020           NaN   \n",
            "9               USD               1.0      US            2020           NaN   \n",
            "..              ...               ...     ...             ...           ...   \n",
            "547             USD               1.0      US            2023           NaN   \n",
            "548             USD               1.0      US            2023           NaN   \n",
            "549             USD               1.0      US            2023           NaN   \n",
            "551             USD               1.0      US            2023           NaN   \n",
            "553             USD               1.0      US            2023           NaN   \n",
            "\n",
            "                      Company industry  Company size              Education  \\\n",
            "0                  Energy, oil and gas           NaN            MSc in STEM   \n",
            "5                             Big Tech           NaN            BSc in STEM   \n",
            "7                         Tech Company           NaN                    PhD   \n",
            "8                         Tech Company           NaN      MSc not specified   \n",
            "9    Education, Research ad University           NaN            MSc in STEM   \n",
            "..                                 ...           ...                    ...   \n",
            "547                     Ciber Security           NaN          BSc in Others   \n",
            "548                         Healthcare           NaN  BSc in human sciences   \n",
            "549                       Tech Company           NaN            BSc in STEM   \n",
            "551                       Tech Company           NaN            MSc in STEM   \n",
            "553                            Finance           NaN                    PhD   \n",
            "\n",
            "    Experience level  Employment type  \n",
            "0                 EN              NaN  \n",
            "5                 SE              NaN  \n",
            "7                 IS              NaN  \n",
            "8                 SE              NaN  \n",
            "9                 EN              NaN  \n",
            "..               ...              ...  \n",
            "547              NaN              NaN  \n",
            "548              NaN              NaN  \n",
            "549              NaN              NaN  \n",
            "551              NaN              NaN  \n",
            "553               EN              NaN  \n",
            "\n",
            "[363 rows x 12 columns]\n"
          ]
        }
      ]
    },
    {
      "cell_type": "code",
      "source": [
        "count = 0\n",
        "for index, row in new_table.iterrows():\n",
        "  if pd.isna(row['Experience level']):\n",
        "    count += 1\n",
        "\n",
        "print(count)"
      ],
      "metadata": {
        "colab": {
          "base_uri": "https://localhost:8080/"
        },
        "id": "DOlR8oV_iw6-",
        "outputId": "5b6d6740-7706-4657-c317-9a55843c9068"
      },
      "execution_count": null,
      "outputs": [
        {
          "output_type": "stream",
          "name": "stdout",
          "text": [
            "145\n"
          ]
        }
      ]
    },
    {
      "cell_type": "markdown",
      "source": [
        "# **2nd Dataset**"
      ],
      "metadata": {
        "id": "1twHCbhNnBGL"
      }
    },
    {
      "cell_type": "code",
      "source": [
        "df2 = pd.read_csv('/content/salaries (2).csv')\n",
        "job_titles = df2['job_title']\n",
        "print(job_titles.value_counts())"
      ],
      "metadata": {
        "colab": {
          "base_uri": "https://localhost:8080/"
        },
        "id": "RXWS13OMEGiS",
        "outputId": "3e58d595-99a3-4026-d1fd-eb575c637d36"
      },
      "execution_count": null,
      "outputs": [
        {
          "output_type": "stream",
          "name": "stdout",
          "text": [
            "job_title\n",
            "Data Engineer                    3464\n",
            "Data Scientist                   3314\n",
            "Data Analyst                     2440\n",
            "Machine Learning Engineer        1705\n",
            "Research Scientist                531\n",
            "                                 ... \n",
            "Quantitative Research Analyst       1\n",
            "AWS Data Architect                  1\n",
            "Analytics Engineering Manager       1\n",
            "Marketing Data Scientist            1\n",
            "Applied Research Scientist          1\n",
            "Name: count, Length: 155, dtype: int64\n"
          ]
        }
      ]
    },
    {
      "cell_type": "code",
      "source": [
        "new_table2 = pd.DataFrame()\n",
        "\n",
        "new_job_titles = []\n",
        "\n",
        "for jt in job_titles:\n",
        "  if pd.isna(jt):\n",
        "    jt = 'Null'\n",
        "    print(jt)\n",
        "  else:\n",
        "    if 'data' in jt.lower():\n",
        "        if 'scientist' in jt.lower():\n",
        "            jt = 'Data Scientist'\n",
        "        elif 'analy' in jt.lower():\n",
        "            jt = 'Data Analyst'\n",
        "        elif 'manager' in jt.lower():\n",
        "            jt = 'Data Manager'\n",
        "        elif 'engineer' in jt.lower() or 'architect':\n",
        "            jt = 'Data Engineer'\n",
        "        elif 'science' in jt.lower():\n",
        "            jt = 'Data Scientist'\n",
        "    elif 'machine learning' in jt.lower() or 'ml' in jt.lower():\n",
        "        jt = 'ML Engineer'\n",
        "    elif 'research' in jt.lower():\n",
        "        jt = 'Research Engineer'\n",
        "    elif 'ai' in jt.lower():\n",
        "        jt = 'AI Engineer'\n",
        "    elif 'business' in jt.lower() or 'bi ' in jt.lower():\n",
        "      if 'engineer' in jt.lower():\n",
        "        jt = 'BI Engineer'\n",
        "      elif 'analyst' in jt.lower():\n",
        "        jt = 'BI Analyst'\n",
        "      elif 'manager' in jt.lower():\n",
        "        jt = 'BI Manager'\n",
        "      elif 'developer' in jt.lower():\n",
        "        jt = 'BI Developer'\n",
        "      else:\n",
        "        jt = 'BI Analyst'\n",
        "\n",
        "  new_job_titles.append(jt)\n",
        "\n",
        "new_table2['Job title'] = new_job_titles\n",
        "new_table2['Reference year'] = df2['work_year']"
      ],
      "metadata": {
        "id": "BhrSFynj9QjH"
      },
      "execution_count": null,
      "outputs": []
    },
    {
      "cell_type": "code",
      "source": [
        "t = []\n",
        "for jt in new_job_titles:\n",
        "    if jt not in t:\n",
        "      t.append(jt)\n",
        "for te in t:\n",
        "  print(te)"
      ],
      "metadata": {
        "id": "41DCfeNLAmfx"
      },
      "execution_count": null,
      "outputs": []
    },
    {
      "cell_type": "code",
      "source": [
        "salaries = df2['salary']\n",
        "\n",
        "for s in salaries:\n",
        "  if pd.isna(s):\n",
        "    print(s)\n",
        "  elif not str(s).isdigit:\n",
        "    print(s)\n",
        "\n",
        "new_table2['Salary amount'] = salaries"
      ],
      "metadata": {
        "id": "YrPmnsrEftBv"
      },
      "execution_count": null,
      "outputs": []
    },
    {
      "cell_type": "code",
      "source": [
        "salary_currencies = df2['salary_currency']\n",
        "\n",
        "new_table2['Salary currency'] = salary_currencies\n",
        "\n",
        "conv_ratios = []\n",
        "for currency in salary_currencies:\n",
        "  if currency == 'Null':\n",
        "    cr = 'Null'\n",
        "  else:\n",
        "    if currency == 'USD':\n",
        "      cr = 1\n",
        "    elif currency == 'EUR':\n",
        "      cr = 1.0882787\n",
        "    elif currency == 'GBP':\n",
        "      cr = 1.2951632\n",
        "    elif currency == 'CAD':\n",
        "      cr = 0.73006557\n",
        "    elif currency == 'INR':\n",
        "      cr = 0.011962834\n",
        "    elif currency == 'AUD':\n",
        "      cr = 0.67236147\n",
        "    elif currency == 'CHF':\n",
        "      cr = 1.1143726\n",
        "    elif currency == 'DKK':\n",
        "      cr = 0.14585547\n",
        "    elif currency == 'SGD':\n",
        "      cr = 0.74328847\n",
        "    elif currency == 'BRL':\n",
        "      cr = 0.18421977\n",
        "    elif currency == 'PLN':\n",
        "      cr = 0.25486645\n",
        "    elif currency == 'JPY':\n",
        "      cr = 0.0063014631\n",
        "    elif currency == 'TRY':\n",
        "      cr = 0.030213532\n",
        "    elif currency == 'HUF':\n",
        "      cr = 0.0027768293\n",
        "    elif currency == 'ILS':\n",
        "      cr = 0.27555599\n",
        "    elif currency == 'NOK':\n",
        "      cr = 0.09228212\n",
        "    elif currency == 'THB':\n",
        "      cr = 0.02764467\n",
        "    elif currency == 'NZD':\n",
        "      cr = 0.60512592\n",
        "    elif currency == 'PHP':\n",
        "      cr = 0.017113229\n",
        "    elif currency == 'ZAR':\n",
        "      cr = 0.05514742\n",
        "    elif currency == 'HKD':\n",
        "      cr = 0.1281279\n",
        "    elif currency == 'MXN':\n",
        "      cr = 0.056389299\n",
        "    elif currency == 'CLP':\n",
        "      cr = 0.0010997046\n",
        "\n",
        "  conv_ratios.append(cr)\n",
        "\n",
        "new_table2['Conversion ratio'] = conv_ratios\n",
        "\n",
        "print(new_table2)"
      ],
      "metadata": {
        "colab": {
          "base_uri": "https://localhost:8080/"
        },
        "id": "i9LCOsPzg7HB",
        "outputId": "1e733f52-f130-4918-99bd-4383b29c785d"
      },
      "execution_count": null,
      "outputs": [
        {
          "output_type": "stream",
          "name": "stdout",
          "text": [
            "            Job title  Reference year Country  City  State  Company industry  \\\n",
            "0         AI Engineer            2024      US   NaN    NaN               NaN   \n",
            "1         AI Engineer            2024      US   NaN    NaN               NaN   \n",
            "2       Data Engineer            2024      US   NaN    NaN               NaN   \n",
            "3       Data Engineer            2024      US   NaN    NaN               NaN   \n",
            "4         ML Engineer            2024      US   NaN    NaN               NaN   \n",
            "...               ...             ...     ...   ...    ...               ...   \n",
            "16529  Data Scientist            2020      US   NaN    NaN               NaN   \n",
            "16530  Data Scientist            2021      US   NaN    NaN               NaN   \n",
            "16531  Data Scientist            2020      US   NaN    NaN               NaN   \n",
            "16532    Data Analyst            2020      US   NaN    NaN               NaN   \n",
            "16533    Data Manager            2021      IN   NaN    NaN               NaN   \n",
            "\n",
            "      Company size  Education Experience level Employment type  \\\n",
            "0                M        NaN               SE              FT   \n",
            "1                M        NaN               SE              FT   \n",
            "2                M        NaN               SE              FT   \n",
            "3                M        NaN               SE              FT   \n",
            "4                M        NaN               SE              FT   \n",
            "...            ...        ...              ...             ...   \n",
            "16529            L        NaN               SE              FT   \n",
            "16530            L        NaN               MI              FT   \n",
            "16531            S        NaN               EN              FT   \n",
            "16532            L        NaN               EN              CT   \n",
            "16533            L        NaN               SE              FT   \n",
            "\n",
            "      Salary currency  Conversion ratio  \n",
            "0                 USD          1.000000  \n",
            "1                 USD          1.000000  \n",
            "2                 USD          1.000000  \n",
            "3                 USD          1.000000  \n",
            "4                 USD          1.000000  \n",
            "...               ...               ...  \n",
            "16529             USD          1.000000  \n",
            "16530             USD          1.000000  \n",
            "16531             USD          1.000000  \n",
            "16532             USD          1.000000  \n",
            "16533             INR          0.011963  \n",
            "\n",
            "[16534 rows x 12 columns]\n"
          ]
        }
      ]
    },
    {
      "cell_type": "code",
      "source": [
        "remote_ratios = df2['remote_ratio']\n",
        "\n",
        "for r in remote_ratios:\n",
        "  if pd.isna(r):\n",
        "    print(r)\n",
        "\n",
        "new_table2['Remote ratio'] = remote_ratios"
      ],
      "metadata": {
        "id": "Q07Lno6ogy7B"
      },
      "execution_count": null,
      "outputs": []
    },
    {
      "cell_type": "code",
      "source": [
        "locations = df2['company_location']\n",
        "\n",
        "for l in locations:\n",
        "  if pd.isna(l):\n",
        "    print(l)\n",
        "  elif len(l) != 2:\n",
        "    print(l)\n",
        "\n",
        "print(locations.value_counts())\n",
        "\n",
        "new_table2['Country'] = locations"
      ],
      "metadata": {
        "id": "8FL0JJ8empFo",
        "colab": {
          "base_uri": "https://localhost:8080/"
        },
        "outputId": "3808a19e-023a-435c-e6ba-1bb6a351d0cd"
      },
      "execution_count": null,
      "outputs": [
        {
          "output_type": "stream",
          "name": "stdout",
          "text": [
            "company_location\n",
            "US    14518\n",
            "GB      694\n",
            "CA      455\n",
            "ES      133\n",
            "DE      105\n",
            "      ...  \n",
            "AM        1\n",
            "QA        1\n",
            "AD        1\n",
            "EC        1\n",
            "MD        1\n",
            "Name: count, Length: 77, dtype: int64\n"
          ]
        }
      ]
    },
    {
      "cell_type": "code",
      "source": [
        "new_table2['City'] = np.nan\n",
        "new_table2['State'] = np.nan"
      ],
      "metadata": {
        "id": "7DUDr_z3slAM"
      },
      "execution_count": null,
      "outputs": []
    },
    {
      "cell_type": "code",
      "source": [
        "new_table2['Company industry'] = np.nan\n",
        "new_table2['Company size'] = df2['company_size']\n",
        "new_table2['Education'] = np.nan\n",
        "new_table2['Experience level'] = df2['experience_level']\n",
        "new_table2['Employment type'] = df2['employment_type']"
      ],
      "metadata": {
        "id": "dC50ysFe4xHI"
      },
      "execution_count": null,
      "outputs": []
    },
    {
      "cell_type": "code",
      "source": [
        "print(new_table2)"
      ],
      "metadata": {
        "colab": {
          "base_uri": "https://localhost:8080/"
        },
        "id": "cZd_GCRh5NIA",
        "outputId": "ec70d16d-0e52-447d-e3b4-6523812d543f"
      },
      "execution_count": null,
      "outputs": [
        {
          "output_type": "stream",
          "name": "stdout",
          "text": [
            "            Job title  Reference year Country  City  State  Company industry  \\\n",
            "0         AI Engineer            2024      US   NaN    NaN               NaN   \n",
            "1         AI Engineer            2024      US   NaN    NaN               NaN   \n",
            "2       Data Engineer            2024      US   NaN    NaN               NaN   \n",
            "3       Data Engineer            2024      US   NaN    NaN               NaN   \n",
            "4         ML Engineer            2024      US   NaN    NaN               NaN   \n",
            "...               ...             ...     ...   ...    ...               ...   \n",
            "16529  Data Scientist            2020      US   NaN    NaN               NaN   \n",
            "16530  Data Scientist            2021      US   NaN    NaN               NaN   \n",
            "16531  Data Scientist            2020      US   NaN    NaN               NaN   \n",
            "16532    Data Analyst            2020      US   NaN    NaN               NaN   \n",
            "16533    Data Manager            2021      IN   NaN    NaN               NaN   \n",
            "\n",
            "      Company size  Education Experience level Employment type  \\\n",
            "0                M        NaN               SE              FT   \n",
            "1                M        NaN               SE              FT   \n",
            "2                M        NaN               SE              FT   \n",
            "3                M        NaN               SE              FT   \n",
            "4                M        NaN               SE              FT   \n",
            "...            ...        ...              ...             ...   \n",
            "16529            L        NaN               SE              FT   \n",
            "16530            L        NaN               MI              FT   \n",
            "16531            S        NaN               EN              FT   \n",
            "16532            L        NaN               EN              CT   \n",
            "16533            L        NaN               SE              FT   \n",
            "\n",
            "      Salary currency  Conversion ratio  Salary amount  Remote ratio  \n",
            "0                 USD          1.000000         202730             0  \n",
            "1                 USD          1.000000          92118             0  \n",
            "2                 USD          1.000000         130500             0  \n",
            "3                 USD          1.000000          96000             0  \n",
            "4                 USD          1.000000         190000             0  \n",
            "...               ...               ...            ...           ...  \n",
            "16529             USD          1.000000         412000           100  \n",
            "16530             USD          1.000000         151000           100  \n",
            "16531             USD          1.000000         105000           100  \n",
            "16532             USD          1.000000         100000           100  \n",
            "16533             INR          0.011963        7000000            50  \n",
            "\n",
            "[16534 rows x 14 columns]\n"
          ]
        }
      ]
    },
    {
      "cell_type": "markdown",
      "source": [
        "#**Final table**"
      ],
      "metadata": {
        "id": "V9ikbHCM-YPi"
      }
    },
    {
      "cell_type": "code",
      "source": [
        "final_table = pd.concat([new_table, new_table2], ignore_index=True)\n",
        "print(final_table)"
      ],
      "metadata": {
        "colab": {
          "base_uri": "https://localhost:8080/"
        },
        "id": "PrOrgQsC2gy7",
        "outputId": "ea1f6553-8ca6-4b52-cc7f-c2f5e6a4716d"
      },
      "execution_count": null,
      "outputs": [
        {
          "output_type": "stream",
          "name": "stdout",
          "text": [
            "                     Job title  Salary amount Salary currency  \\\n",
            "0               Data Scientist       140000.0             USD   \n",
            "1              Product Analyst        86000.0             USD   \n",
            "2               Data Scientist        85000.0             USD   \n",
            "3                  ML Engineer       240000.0             USD   \n",
            "4      Data Science Consultant        65000.0             USD   \n",
            "...                        ...            ...             ...   \n",
            "16986           Data Scientist       412000.0             USD   \n",
            "16987           Data Scientist       151000.0             USD   \n",
            "16988           Data Scientist       105000.0             USD   \n",
            "16989             Data Analyst       100000.0             USD   \n",
            "16990             Data Manager      7000000.0             INR   \n",
            "\n",
            "       Conversion ratio Country     City State  Reference year  Remote ratio  \\\n",
            "0              1.000000      US  Houston    TX            2020           NaN   \n",
            "1              1.000000     NaN      NaN   NaN            2020           NaN   \n",
            "2              1.000000     NaN      NaN   NaN            2020           NaN   \n",
            "3              1.000000     NaN      NaN   NaN            2020           NaN   \n",
            "4              1.000000     NaN      NaN   NaN            2020           NaN   \n",
            "...                 ...     ...      ...   ...             ...           ...   \n",
            "16986          1.000000      US      NaN   NaN            2020         100.0   \n",
            "16987          1.000000      US      NaN   NaN            2021         100.0   \n",
            "16988          1.000000      US      NaN   NaN            2020         100.0   \n",
            "16989          1.000000      US      NaN   NaN            2020         100.0   \n",
            "16990          0.011963      IN      NaN   NaN            2021          50.0   \n",
            "\n",
            "          Company industry Company size              Education  \\\n",
            "0      Energy, oil and gas          NaN            MSc in STEM   \n",
            "1           Ciber Security          NaN  MSc in human sciences   \n",
            "2           Ciber Security          NaN            MSc in STEM   \n",
            "3             Tech Company          NaN            BSc in STEM   \n",
            "4             Tech Company          NaN                    PhD   \n",
            "...                    ...          ...                    ...   \n",
            "16986                  NaN            L                    NaN   \n",
            "16987                  NaN            L                    NaN   \n",
            "16988                  NaN            S                    NaN   \n",
            "16989                  NaN            L                    NaN   \n",
            "16990                  NaN            L                    NaN   \n",
            "\n",
            "      Experience level Employment type  \n",
            "0                   EN             NaN  \n",
            "1                   SE             NaN  \n",
            "2                   SE             NaN  \n",
            "3                   MI             NaN  \n",
            "4                   MI             NaN  \n",
            "...                ...             ...  \n",
            "16986               SE              FT  \n",
            "16987               MI              FT  \n",
            "16988               EN              FT  \n",
            "16989               EN              CT  \n",
            "16990               SE              FT  \n",
            "\n",
            "[16991 rows x 14 columns]\n"
          ]
        }
      ]
    },
    {
      "cell_type": "code",
      "source": [
        "# prompt: create a csv file of final table\n",
        "\n",
        "final_table.to_csv('final_table.csv', index=False)\n"
      ],
      "metadata": {
        "id": "qG_cUrR57y4z"
      },
      "execution_count": null,
      "outputs": []
    }
  ]
}